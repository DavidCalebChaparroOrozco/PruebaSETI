{
 "cells": [
  {
   "cell_type": "markdown",
   "metadata": {},
   "source": [
    "# 1. ¿Python es un lenguaje fuertemente tipado?\n",
    "__R/ Si__"
   ]
  },
  {
   "cell_type": "markdown",
   "metadata": {},
   "source": [
    "# 2. Para añadir una condición alternativa a una declaración condicional if se utiliza\n",
    "__R/ elif__"
   ]
  },
  {
   "cell_type": "code",
   "execution_count": 6,
   "metadata": {},
   "outputs": [
    {
     "name": "stdout",
     "output_type": "stream",
     "text": [
      "Administrador\n"
     ]
    }
   ],
   "source": [
    "usuario_logueado = False\n",
    "usuario_admin = True\n",
    "if usuario_logueado or usuario_admin:\n",
    "    print('Administrador')\n",
    "elif usuario_logueado:\n",
    "    print('Acceso al sistema')\n",
    "else:\n",
    "    print('Debes Iniciar sesión')"
   ]
  },
  {
   "cell_type": "markdown",
   "metadata": {},
   "source": [
    "# 3. ¿Python es un lenguaje interpretado?\n",
    "__R/ Si__"
   ]
  },
  {
   "cell_type": "markdown",
   "metadata": {},
   "source": [
    "# 4.Para mostrar el valor de la posición 2 de un array llamada ‘test’ utilizamos"
   ]
  },
  {
   "cell_type": "code",
   "execution_count": 1,
   "metadata": {},
   "outputs": [
    {
     "name": "stdout",
     "output_type": "stream",
     "text": [
      "Martes\n"
     ]
    }
   ],
   "source": [
    "test = ('Lunes', 'Martes', 'Miercoles','Jueves','Viernes', 'Sabado', 'Domingo')\n",
    "print(test[1])"
   ]
  },
  {
   "cell_type": "markdown",
   "metadata": {},
   "source": [
    "# 5. ¿Qué tan necesaria la indentación de código en python?\n",
    "__R/ Es muy necesaria, si no está bien arrojará errores.__"
   ]
  },
  {
   "cell_type": "code",
   "execution_count": 4,
   "metadata": {},
   "outputs": [
    {
     "ename": "IndentationError",
     "evalue": "expected an indented block after 'for' statement on line 2 (2676812445.py, line 3)",
     "output_type": "error",
     "traceback": [
      "\u001b[1;36m  Cell \u001b[1;32mIn [4], line 3\u001b[1;36m\u001b[0m\n\u001b[1;33m    print(i)\u001b[0m\n\u001b[1;37m    ^\u001b[0m\n\u001b[1;31mIndentationError\u001b[0m\u001b[1;31m:\u001b[0m expected an indented block after 'for' statement on line 2\n"
     ]
    }
   ],
   "source": [
    "'''Error'''\n",
    "for i in range(1,3):\n",
    "print(i)"
   ]
  },
  {
   "cell_type": "code",
   "execution_count": 28,
   "metadata": {},
   "outputs": [
    {
     "name": "stdout",
     "output_type": "stream",
     "text": [
      "1\n",
      "2\n"
     ]
    }
   ],
   "source": [
    "'''Funciona'''\n",
    "for i in range(1,3):\n",
    "    print(i)"
   ]
  },
  {
   "cell_type": "markdown",
   "metadata": {},
   "source": [
    "# 6. ¿Qué es el `__init__` y haga un ejemplo de su uso?"
   ]
  },
  {
   "cell_type": "markdown",
   "metadata": {},
   "source": [
    "## Es un metodo de POO y es utilizado para crear objetos, esta función es llamada cada vez que se crea un objeto de una clase, porque permite inicializar los atributos de objeto, solo se usan dentro de las clases. Ejm:"
   ]
  },
  {
   "cell_type": "code",
   "execution_count": 30,
   "metadata": {},
   "outputs": [
    {
     "name": "stdout",
     "output_type": "stream",
     "text": [
      "----------------Calculadora basica----------------\n",
      "Suma: 15.0\n",
      "Resta: 5.0\n",
      "Multiplicación: 50.0\n",
      "Dividir: 2.000\n"
     ]
    }
   ],
   "source": [
    "class Aritmetica:\n",
    "    \"\"\"\n",
    "    Clase Aritmetica para realizar las operaciones de sumar, restar, etc.\n",
    "    \"\"\"\n",
    "    def __init__(self, operandoA, operandoB):\n",
    "        self.operandoA = operandoA\n",
    "        self.operandoB = operandoB\n",
    "    \n",
    "    def sumar(self):\n",
    "        return float(self.operandoA + self.operandoB)\n",
    "\n",
    "    def restar(self):\n",
    "        return float(self.operandoA - self.operandoB)\n",
    "\n",
    "    def multiplicar(self):\n",
    "        return float(self.operandoA * self.operandoB)\n",
    "\n",
    "    def dividir(self):\n",
    "        if self.operandoB == 0:\n",
    "            return 'No se puede dividir por CERO pelotudo'\n",
    "        return float(self.operandoA / self.operandoB)\n",
    "\n",
    "aritmetica1 = Aritmetica(10,5)\n",
    "print('Calculadora básica'.center(50,'-'))\n",
    "print(f'Suma: {aritmetica1.sumar()}')\n",
    "print(f'Resta: {aritmetica1.restar()}')\n",
    "print(f'Multiplicación: {aritmetica1.multiplicar()}')\n",
    "print(f'Dividir: {aritmetica1.dividir():.3f}')"
   ]
  },
  {
   "cell_type": "markdown",
   "metadata": {},
   "source": [
    "# 7.¿Cuál de los siguientes es un objeto de tipo diccionario?"
   ]
  },
  {
   "cell_type": "code",
   "execution_count": 9,
   "metadata": {},
   "outputs": [
    {
     "data": {
      "text/plain": [
       "dict"
      ]
     },
     "execution_count": 9,
     "metadata": {},
     "output_type": "execute_result"
    }
   ],
   "source": [
    "diccionario = {'Numero': 1, 'Nombre': 'Juan'}\n",
    "type(diccionario)"
   ]
  },
  {
   "cell_type": "markdown",
   "metadata": {},
   "source": [
    "# 8. ¿Que es el Self en python?\n",
    "__R/ Es una instancia u objeto de una clase.__\n"
   ]
  },
  {
   "cell_type": "markdown",
   "metadata": {},
   "source": [
    "# 9. ¿Cuál es la forma correcta de escribir un bucle for?\n",
    "__R/ for a in range(0, 3)__"
   ]
  },
  {
   "cell_type": "code",
   "execution_count": 24,
   "metadata": {},
   "outputs": [
    {
     "name": "stdout",
     "output_type": "stream",
     "text": [
      "0\n",
      "1\n",
      "2\n"
     ]
    }
   ],
   "source": [
    "for a in range(0,3):\n",
    "    print(a)"
   ]
  },
  {
   "cell_type": "markdown",
   "metadata": {},
   "source": [
    "# 10. ¿Cuál es la diferencia entre `*args`, `**kwargs`?\n",
    "\n",
    "|   `*args` \t| `**kwargs`  \t|\n",
    "|---\t|---\t|\n",
    "| Significa pasar un número arbitrario de argumentos. | Significa pasar un número arbitrario de argumentos con palabras clave. |"
   ]
  },
  {
   "cell_type": "markdown",
   "metadata": {},
   "source": []
  },
  {
   "cell_type": "markdown",
   "metadata": {},
   "source": [
    "# 11. ¿Qué diferencia hay entre una clase y un objeto?\n",
    "__R/ Un objeto es una instancia de una clase.__"
   ]
  },
  {
   "cell_type": "markdown",
   "metadata": {},
   "source": [
    "# 12. El resultado de la declaración `print('%.2f' % 1714.666)` es:"
   ]
  },
  {
   "cell_type": "code",
   "execution_count": 1,
   "metadata": {},
   "outputs": [
    {
     "name": "stdout",
     "output_type": "stream",
     "text": [
      "174.67\n"
     ]
    }
   ],
   "source": [
    "'''\n",
    "El %.2f se utiliza para aproximar los valores decimales\n",
    "en este caso como la variable es (2) toma los dos primeros\n",
    "'''\n",
    "print('%.2f'%174.666)"
   ]
  },
  {
   "cell_type": "markdown",
   "metadata": {},
   "source": [
    "# 13. Defina una lista e insértele valores:"
   ]
  },
  {
   "cell_type": "code",
   "execution_count": 40,
   "metadata": {},
   "outputs": [
    {
     "name": "stdout",
     "output_type": "stream",
     "text": [
      "Sin insertar valores:  ['Python', 'Java', 'JavaScript', 'SQL']\n",
      "Con nuevos valores:  ['Python', 'Java', 'JavaScript', 'SQL', 'Ruby']\n",
      "<class 'list'>\n"
     ]
    }
   ],
   "source": [
    "lenguajes = []\n",
    "lenguajes = ['Python','Java', 'JavaScript', 'SQL']\n",
    "print(f'Sin insertar valores: ', lenguajes)\n",
    "lenguajes.append('Ruby')\n",
    "print(f'Con nuevos valores: ', lenguajes)\n",
    "print(type(lenguajes))"
   ]
  },
  {
   "cell_type": "markdown",
   "metadata": {},
   "source": [
    "# 14. Defina una tupla e insértele valores:"
   ]
  },
  {
   "cell_type": "code",
   "execution_count": 39,
   "metadata": {},
   "outputs": [
    {
     "name": "stdout",
     "output_type": "stream",
     "text": [
      "Todas las canciones:  ('Let Me Down Slowly', 'No Friends', 'I Lost A Friend', 'Savior')\n",
      "Agregando la canción:  ('Let Me Down Slowly', 'No Friends', 'I Lost A Friend', 'Savior', 'Jet Black Heart')\n",
      "<class 'tuple'>\n"
     ]
    }
   ],
   "source": [
    "canciones = ()\n",
    "canciones = ('Let Me Down Slowly', 'No Friends', 'I Lost A Friend', 'Savior')\n",
    "print(f'Todas las canciones: ', canciones)\n",
    "nueva_cancion = ('Jet Black Heart',)\n",
    "cola_reproduccion = canciones + nueva_cancion\n",
    "print(f'Agregando la canción: ', cola_reproduccion)\n",
    "print(type(canciones))"
   ]
  },
  {
   "cell_type": "markdown",
   "metadata": {},
   "source": [
    "# 15. Dado un árbol binario, encuentre el ancestro común más cercano entre dos nodos.\n",
    "Inputs:\n",
    "* 70,84,85\n",
    "* 70,84,78,80\n",
    "* 70,84,78,76\n",
    "* 70,49,54,51\n",
    "* 70,49,37,40\n",
    "* 70,49,37,22\n",
    "Output:\n",
    "- ancestor(40,78) = 70\n",
    "- ancestor(51,37) = 49\n",
    "- ancestor(76,85) = 84\n",
    "\n"
   ]
  },
  {
   "cell_type": "code",
   "execution_count": 15,
   "metadata": {},
   "outputs": [
    {
     "name": "stdout",
     "output_type": "stream",
     "text": [
      "Ancestros de (40, 78) = 70\n",
      "Ancestros de (51, 37) = 49\n",
      "Ancestros de (76, 85) = 84\n"
     ]
    }
   ],
   "source": [
    "class TreeBinary:\n",
    "\tdef __init__(self, data):\n",
    "\t\tself.data = data\n",
    "\t\tself.left = None\n",
    "\t\tself.right = None\n",
    "\n",
    "def findPath( root, path, k):\n",
    "\tif root is None:\n",
    "\t\treturn False\n",
    "\tpath.append(root.data)\n",
    "\tif root.data == k :\n",
    "\t\treturn True\n",
    "\tif ((root.left != None and findPath(root.left, path, k)) or (root.right!= None and findPath(root.right, path, k))):\n",
    "\t\treturn True\n",
    "\t\n",
    "\tpath.pop()\n",
    "\treturn False\n",
    "def ancestro(root, n1, n2):\n",
    "\tpath1 = []\n",
    "\tpath2 = []\n",
    "\n",
    "\tif (not findPath(root, path1, n1) or not findPath(root, path2, n2)):\n",
    "\t\treturn -1\n",
    "\n",
    "\ti = 0\n",
    "\twhile(i < len(path1) and i < len(path2)):\n",
    "\t\tif path1[i] != path2[i]:\n",
    "\t\t\tbreak\n",
    "\t\ti += 1\n",
    "\treturn path1[i-1]\n",
    "\n",
    "root = TreeBinary(70)\n",
    "root.left = TreeBinary(49)\n",
    "root.left.left = TreeBinary(37)\n",
    "root.left.left.left = TreeBinary(22)\n",
    "root.left.left.right = TreeBinary(40)\n",
    "\n",
    "root.left.right = TreeBinary(54)\n",
    "root.left.right.left = TreeBinary(51)\n",
    "\n",
    "root.right = TreeBinary(84)\n",
    "root.right.right = TreeBinary(85)\n",
    "root.right.left = TreeBinary(78)\n",
    "root.right.left.left = TreeBinary(76)\n",
    "root.right.left.right = TreeBinary(80)\n",
    "\n",
    "print (\"Ancestros de (40, 78) = %d\" %(ancestro(root, 40, 78)))\n",
    "print (\"Ancestros de (51, 37) = %d\" %(ancestro(root, 51, 37)))\n",
    "print (\"Ancestros de (76, 85) = %d\" %(ancestro(root,76,85)))"
   ]
  }
 ],
 "metadata": {
  "kernelspec": {
   "display_name": "Python 3.10.2 64-bit",
   "language": "python",
   "name": "python3"
  },
  "language_info": {
   "codemirror_mode": {
    "name": "ipython",
    "version": 3
   },
   "file_extension": ".py",
   "mimetype": "text/x-python",
   "name": "python",
   "nbconvert_exporter": "python",
   "pygments_lexer": "ipython3",
   "version": "3.10.2"
  },
  "orig_nbformat": 4,
  "vscode": {
   "interpreter": {
    "hash": "eabca979b0553fa6d87e9a00c352604d3b703d4afc9641643dd42376492b80f6"
   }
  }
 },
 "nbformat": 4,
 "nbformat_minor": 2
}
